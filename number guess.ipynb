{
 "cells": [
  {
   "cell_type": "code",
   "execution_count": 1,
   "metadata": {},
   "outputs": [
    {
     "name": "stdout",
     "output_type": "stream",
     "text": [
      "You got it wrong\n",
      "You got it wrong\n",
      "You got it wrong\n",
      "You got it right\n",
      "you got it in 4 guesses\n"
     ]
    }
   ],
   "source": [
    "import random\n",
    "\n",
    "tor=input(\"Type a number\")\n",
    "if tor.isdigit():\n",
    "    tor=int(tor)\n",
    "\n",
    "    if tor<=0:\n",
    "        print(\"please type a number larger than 0\")\n",
    "else:\n",
    "    print(\"please type a number\")\n",
    "    quit()\n",
    "\n",
    "rann=random.randrange(0,tor)\n",
    "guesses=0\n",
    "\n",
    "while True:\n",
    "    guesses +=1\n",
    "    user_guess=input(\"Make a guess:  \")\n",
    "    if user_guess.isdigit():\n",
    "        user_guess=int(user_guess)\n",
    "\n",
    "    else:\n",
    "        print(\"please type a number\")\n",
    "        continue\n",
    "\n",
    "    if user_guess==rann:\n",
    "        print(\"You got it right\")\n",
    "        break\n",
    "    else:\n",
    "        print(\"You got it wrong\")\n",
    "print(\"you got it in %d guesses\" %guesses)\n"
   ]
  },
  {
   "cell_type": "code",
   "execution_count": null,
   "metadata": {},
   "outputs": [],
   "source": [
    "import random\n",
    "nump=random.randint(0000,9999)\n",
    "print(nump)\n",
    "n=int(input(\"Enter a 4 digit number\"))\n",
    "while n!=10:\n",
    "    num=nump\n",
    "    cor=0\n",
    "    while num%10:\n",
    "        numc=num%10\n",
    "        nc=n%10\n",
    "        num=num//10\n",
    "        n=n//10\n",
    "        if numc==nc:\n",
    "            cor=cor+1\n",
    "    if cor==4:\n",
    "        print(\"Congrats you guessed right\")\n",
    "        break\n",
    "    else:\n",
    "        print(\"%d digits guessed right\" %cor)\n",
    "        n=int(input(\"Enter a 4 digit number\"))\n",
    "else:\n",
    "    print(\"You quite the game\")"
   ]
  }
 ],
 "metadata": {
  "kernelspec": {
   "display_name": "Python 3",
   "language": "python",
   "name": "python3"
  },
  "language_info": {
   "codemirror_mode": {
    "name": "ipython",
    "version": 3
   },
   "file_extension": ".py",
   "mimetype": "text/x-python",
   "name": "python",
   "nbconvert_exporter": "python",
   "pygments_lexer": "ipython3",
   "version": "3.12.2"
  }
 },
 "nbformat": 4,
 "nbformat_minor": 2
}
