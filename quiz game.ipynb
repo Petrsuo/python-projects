{
 "cells": [
  {
   "cell_type": "code",
   "execution_count": 7,
   "id": "d9bb3110-9e0e-4860-bbe0-a246450cac56",
   "metadata": {},
   "outputs": [
    {
     "name": "stdout",
     "output_type": "stream",
     "text": [
      "WELCOME TO BRAIN QUIZ!\n",
      "okay! Lets play:)  \n",
      "Incorrect!\n",
      "Incorrect!\n",
      "CORRECT!  \n",
      "CORRECT!  \n",
      "CORRECT!  \n",
      "you got 3 out of 5\n",
      "you got 75.0%\n"
     ]
    }
   ],
   "source": [
    "print(\"WELCOME TO BRAIN QUIZ!\")\n",
    "\n",
    "playing=input(\"Do you want to play?  \")\n",
    "if playing.lower()!=\"yes\":\n",
    "    quit()\n",
    "print(\"okay! Lets play:)  \")\n",
    "score=0\n",
    "\n",
    "answer=input(\"What does CPU stand for?  \")\n",
    "if answer.lower()==\"central processing unit\":\n",
    "    print(\"CORRECT!  \")\n",
    "    score+=1\n",
    "else:\n",
    "    print(\"Incorrect!\")\n",
    "\n",
    "answer=input(\"What does GPU stand for?  \")\n",
    "if answer.lower()==\"graphics processing unit\":\n",
    "    print(\"CORRECT!  \")\n",
    "    score+=1\n",
    "else:\n",
    "    print(\"Incorrect!\")\n",
    "\n",
    "answer=input(\"What does RAM stand for?  \")\n",
    "if answer.lower()==\"random access memory\":\n",
    "    print(\"CORRECT!  \")\n",
    "    score+=1\n",
    "else:\n",
    "    print(\"Incorrect!\")\n",
    "\n",
    "answer=input(\"What does ROM stand for?  \")\n",
    "if answer.lower()==\"read only memory\":\n",
    "    print(\"CORRECT!  \")\n",
    "    score+=1\n",
    "else:\n",
    "    print(\"Incorrect!\")\n",
    "\n",
    "answer=input(\"What does PSU stand for?  \")\n",
    "if answer.lower()==\"power supply\":\n",
    "    print(\"CORRECT!  \")\n",
    "    score+=1\n",
    "else:\n",
    "    print(\"Incorrect!\")\n",
    "\n",
    "print(f\"you got {score} out of 5\")\n",
    "print(f\"you got {(score/4)*100}%\")\n"
   ]
  },
  {
   "cell_type": "code",
   "execution_count": null,
   "id": "54ca5a1b",
   "metadata": {},
   "outputs": [],
   "source": []
  }
 ],
 "metadata": {
  "kernelspec": {
   "display_name": "Python 3 (ipykernel)",
   "language": "python",
   "name": "python3"
  },
  "language_info": {
   "codemirror_mode": {
    "name": "ipython",
    "version": 3
   },
   "file_extension": ".py",
   "mimetype": "text/x-python",
   "name": "python",
   "nbconvert_exporter": "python",
   "pygments_lexer": "ipython3",
   "version": "3.12.2"
  }
 },
 "nbformat": 4,
 "nbformat_minor": 5
}
