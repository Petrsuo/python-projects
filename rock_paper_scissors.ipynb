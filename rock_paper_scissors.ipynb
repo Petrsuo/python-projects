{
 "cells": [
  {
   "cell_type": "code",
   "execution_count": 3,
   "metadata": {},
   "outputs": [
    {
     "name": "stdout",
     "output_type": "stream",
     "text": [
      "Computer picked rock.\n",
      "You lost! \n",
      "Computer picked paper.\n",
      "You won!\n",
      "Computer picked rock.\n",
      "You lost! \n",
      "Computer picked paper.\n",
      "You lost! \n",
      "Computer picked rock.\n",
      "You lost! \n",
      "you won! 1 times.\n",
      "Computer won 4 times.\n",
      "Goodbye!\n"
     ]
    }
   ],
   "source": [
    "import random\n",
    "\n",
    "\n",
    "user_wins=0\n",
    "computer_wins=0\n",
    "options=[\"rock\",\"paper\",\"scissors\"]\n",
    "\n",
    "while True:\n",
    "    user_input=input(\"Type Rock/paper/scissors or Q to quit:  \").lower()\n",
    "    if user_input==\"q\":\n",
    "        break\n",
    "\n",
    "    if user_input not in options:\n",
    "        continue\n",
    "    \n",
    "    random_number=random.randint(0,2)\n",
    "    # rock:0,  paper:1,  scissors:2\n",
    "\n",
    "    computer_pick=options[random_number]\n",
    "    print(\"Computer picked\", computer_pick+\".\")\n",
    "\n",
    "    if user_input==\"rock\" and computer_pick==\"scissors\":\n",
    "        print(\"You won!\")\n",
    "        user_wins+=1\n",
    "\n",
    "\n",
    "    elif user_input==\"paper\" and computer_pick==\"rock\":\n",
    "        print(\"You won!\")\n",
    "        user_wins+=1\n",
    "\n",
    "    elif user_input==\"scissors\" and computer_pick==\"paper\":\n",
    "        print(\"You won!\")\n",
    "        user_wins+=1\n",
    "    \n",
    "    else:\n",
    "        print(\"You lost! \")\n",
    "        computer_wins+=1\n",
    "\n",
    "print(\"you won!\", user_wins, \"times.\")\n",
    "print(\"Computer won\", computer_wins, \"times.\")\n",
    "print(\"Goodbye!\")"
   ]
  },
  {
   "cell_type": "code",
   "execution_count": null,
   "metadata": {},
   "outputs": [],
   "source": []
  }
 ],
 "metadata": {
  "kernelspec": {
   "display_name": "Python 3",
   "language": "python",
   "name": "python3"
  },
  "language_info": {
   "codemirror_mode": {
    "name": "ipython",
    "version": 3
   },
   "file_extension": ".py",
   "mimetype": "text/x-python",
   "name": "python",
   "nbconvert_exporter": "python",
   "pygments_lexer": "ipython3",
   "version": "3.12.2"
  }
 },
 "nbformat": 4,
 "nbformat_minor": 2
}
